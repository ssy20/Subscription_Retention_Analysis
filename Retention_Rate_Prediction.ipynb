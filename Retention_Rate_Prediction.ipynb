{
 "cells": [
  {
   "cell_type": "code",
   "execution_count": 46,
   "metadata": {},
   "outputs": [],
   "source": [
    "import pandas\n",
    "import numpy as np\n",
    "import matplotlib.pyplot as plt\n",
    "import seaborn as sns\n",
    "import statsmodels.api as sm"
   ]
  },
  {
   "cell_type": "code",
   "execution_count": 47,
   "metadata": {},
   "outputs": [
    {
     "data": {
      "text/html": [
       "<div>\n",
       "<style scoped>\n",
       "    .dataframe tbody tr th:only-of-type {\n",
       "        vertical-align: middle;\n",
       "    }\n",
       "\n",
       "    .dataframe tbody tr th {\n",
       "        vertical-align: top;\n",
       "    }\n",
       "\n",
       "    .dataframe thead th {\n",
       "        text-align: right;\n",
       "    }\n",
       "</style>\n",
       "<table border=\"1\" class=\"dataframe\">\n",
       "  <thead>\n",
       "    <tr style=\"text-align: right;\">\n",
       "      <th></th>\n",
       "      <th>user_id</th>\n",
       "      <th>subscription_signup_date</th>\n",
       "      <th>subscription_monthly_cost</th>\n",
       "      <th>country</th>\n",
       "      <th>source</th>\n",
       "      <th>billing_cycles</th>\n",
       "      <th>is_active</th>\n",
       "    </tr>\n",
       "  </thead>\n",
       "  <tbody>\n",
       "    <tr>\n",
       "      <th>0</th>\n",
       "      <td>1459</td>\n",
       "      <td>January, 2015</td>\n",
       "      <td>29</td>\n",
       "      <td>Spain</td>\n",
       "      <td>ads</td>\n",
       "      <td>4</td>\n",
       "      <td>0</td>\n",
       "    </tr>\n",
       "    <tr>\n",
       "      <th>1</th>\n",
       "      <td>12474</td>\n",
       "      <td>January, 2015</td>\n",
       "      <td>49</td>\n",
       "      <td>France</td>\n",
       "      <td>ads</td>\n",
       "      <td>5</td>\n",
       "      <td>0</td>\n",
       "    </tr>\n",
       "    <tr>\n",
       "      <th>2</th>\n",
       "      <td>12294</td>\n",
       "      <td>January, 2015</td>\n",
       "      <td>49</td>\n",
       "      <td>Germany</td>\n",
       "      <td>ads</td>\n",
       "      <td>2</td>\n",
       "      <td>0</td>\n",
       "    </tr>\n",
       "    <tr>\n",
       "      <th>3</th>\n",
       "      <td>3878</td>\n",
       "      <td>January, 2015</td>\n",
       "      <td>49</td>\n",
       "      <td>China</td>\n",
       "      <td>ads</td>\n",
       "      <td>1</td>\n",
       "      <td>0</td>\n",
       "    </tr>\n",
       "    <tr>\n",
       "      <th>4</th>\n",
       "      <td>9567</td>\n",
       "      <td>January, 2015</td>\n",
       "      <td>49</td>\n",
       "      <td>UK</td>\n",
       "      <td>ads</td>\n",
       "      <td>5</td>\n",
       "      <td>0</td>\n",
       "    </tr>\n",
       "    <tr>\n",
       "      <th>...</th>\n",
       "      <td>...</td>\n",
       "      <td>...</td>\n",
       "      <td>...</td>\n",
       "      <td>...</td>\n",
       "      <td>...</td>\n",
       "      <td>...</td>\n",
       "      <td>...</td>\n",
       "    </tr>\n",
       "    <tr>\n",
       "      <th>499995</th>\n",
       "      <td>496962</td>\n",
       "      <td>January, 2015</td>\n",
       "      <td>29</td>\n",
       "      <td>Spain</td>\n",
       "      <td>ads</td>\n",
       "      <td>2</td>\n",
       "      <td>0</td>\n",
       "    </tr>\n",
       "    <tr>\n",
       "      <th>499996</th>\n",
       "      <td>480669</td>\n",
       "      <td>January, 2015</td>\n",
       "      <td>29</td>\n",
       "      <td>Italy</td>\n",
       "      <td>seo</td>\n",
       "      <td>1</td>\n",
       "      <td>0</td>\n",
       "    </tr>\n",
       "    <tr>\n",
       "      <th>499997</th>\n",
       "      <td>491164</td>\n",
       "      <td>January, 2015</td>\n",
       "      <td>29</td>\n",
       "      <td>UK</td>\n",
       "      <td>ads</td>\n",
       "      <td>2</td>\n",
       "      <td>0</td>\n",
       "    </tr>\n",
       "    <tr>\n",
       "      <th>499998</th>\n",
       "      <td>493323</td>\n",
       "      <td>January, 2015</td>\n",
       "      <td>49</td>\n",
       "      <td>Germany</td>\n",
       "      <td>ads</td>\n",
       "      <td>1</td>\n",
       "      <td>0</td>\n",
       "    </tr>\n",
       "    <tr>\n",
       "      <th>499999</th>\n",
       "      <td>482977</td>\n",
       "      <td>January, 2015</td>\n",
       "      <td>49</td>\n",
       "      <td>France</td>\n",
       "      <td>ads</td>\n",
       "      <td>5</td>\n",
       "      <td>0</td>\n",
       "    </tr>\n",
       "  </tbody>\n",
       "</table>\n",
       "<p>500000 rows × 7 columns</p>\n",
       "</div>"
      ],
      "text/plain": [
       "        user_id subscription_signup_date  subscription_monthly_cost  country  \\\n",
       "0          1459            January, 2015                         29    Spain   \n",
       "1         12474            January, 2015                         49   France   \n",
       "2         12294            January, 2015                         49  Germany   \n",
       "3          3878            January, 2015                         49    China   \n",
       "4          9567            January, 2015                         49       UK   \n",
       "...         ...                      ...                        ...      ...   \n",
       "499995   496962            January, 2015                         29    Spain   \n",
       "499996   480669            January, 2015                         29    Italy   \n",
       "499997   491164            January, 2015                         29       UK   \n",
       "499998   493323            January, 2015                         49  Germany   \n",
       "499999   482977            January, 2015                         49   France   \n",
       "\n",
       "       source  billing_cycles  is_active  \n",
       "0         ads               4          0  \n",
       "1         ads               5          0  \n",
       "2         ads               2          0  \n",
       "3         ads               1          0  \n",
       "4         ads               5          0  \n",
       "...       ...             ...        ...  \n",
       "499995    ads               2          0  \n",
       "499996    seo               1          0  \n",
       "499997    ads               2          0  \n",
       "499998    ads               1          0  \n",
       "499999    ads               5          0  \n",
       "\n",
       "[500000 rows x 7 columns]"
      ]
     },
     "execution_count": 47,
     "metadata": {},
     "output_type": "execute_result"
    }
   ],
   "source": [
    "data=pandas.read_csv('subscription.csv')\n",
    "# the company has 500000 users signing up for subcription in Jan, 2015\n",
    "# the table contains information about when a user canceled the subscription\n",
    "data"
   ]
  },
  {
   "cell_type": "code",
   "execution_count": 48,
   "metadata": {},
   "outputs": [
    {
     "data": {
      "text/plain": [
       "500000"
      ]
     },
     "execution_count": 48,
     "metadata": {},
     "output_type": "execute_result"
    }
   ],
   "source": [
    "len(data['user_id'].unique())"
   ]
  },
  {
   "cell_type": "code",
   "execution_count": 49,
   "metadata": {
    "scrolled": true
   },
   "outputs": [
    {
     "data": {
      "text/html": [
       "<div>\n",
       "<style scoped>\n",
       "    .dataframe tbody tr th:only-of-type {\n",
       "        vertical-align: middle;\n",
       "    }\n",
       "\n",
       "    .dataframe tbody tr th {\n",
       "        vertical-align: top;\n",
       "    }\n",
       "\n",
       "    .dataframe thead th {\n",
       "        text-align: right;\n",
       "    }\n",
       "</style>\n",
       "<table border=\"1\" class=\"dataframe\">\n",
       "  <thead>\n",
       "    <tr style=\"text-align: right;\">\n",
       "      <th></th>\n",
       "      <th>user_id</th>\n",
       "      <th>subscription_signup_date</th>\n",
       "      <th>subscription_monthly_cost</th>\n",
       "      <th>country</th>\n",
       "      <th>source</th>\n",
       "      <th>billing_cycles</th>\n",
       "      <th>is_active</th>\n",
       "    </tr>\n",
       "  </thead>\n",
       "  <tbody>\n",
       "    <tr>\n",
       "      <th>count</th>\n",
       "      <td>500000.000000</td>\n",
       "      <td>500000</td>\n",
       "      <td>500000.000000</td>\n",
       "      <td>500000</td>\n",
       "      <td>500000</td>\n",
       "      <td>500000.000000</td>\n",
       "      <td>500000.000000</td>\n",
       "    </tr>\n",
       "    <tr>\n",
       "      <th>unique</th>\n",
       "      <td>NaN</td>\n",
       "      <td>1</td>\n",
       "      <td>NaN</td>\n",
       "      <td>8</td>\n",
       "      <td>3</td>\n",
       "      <td>NaN</td>\n",
       "      <td>NaN</td>\n",
       "    </tr>\n",
       "    <tr>\n",
       "      <th>top</th>\n",
       "      <td>NaN</td>\n",
       "      <td>January, 2015</td>\n",
       "      <td>NaN</td>\n",
       "      <td>US</td>\n",
       "      <td>ads</td>\n",
       "      <td>NaN</td>\n",
       "      <td>NaN</td>\n",
       "    </tr>\n",
       "    <tr>\n",
       "      <th>freq</th>\n",
       "      <td>NaN</td>\n",
       "      <td>500000</td>\n",
       "      <td>NaN</td>\n",
       "      <td>91731</td>\n",
       "      <td>414469</td>\n",
       "      <td>NaN</td>\n",
       "      <td>NaN</td>\n",
       "    </tr>\n",
       "    <tr>\n",
       "      <th>mean</th>\n",
       "      <td>250000.500000</td>\n",
       "      <td>NaN</td>\n",
       "      <td>48.469620</td>\n",
       "      <td>NaN</td>\n",
       "      <td>NaN</td>\n",
       "      <td>2.384970</td>\n",
       "      <td>0.099998</td>\n",
       "    </tr>\n",
       "    <tr>\n",
       "      <th>std</th>\n",
       "      <td>144337.711634</td>\n",
       "      <td>NaN</td>\n",
       "      <td>19.570745</td>\n",
       "      <td>NaN</td>\n",
       "      <td>NaN</td>\n",
       "      <td>2.254952</td>\n",
       "      <td>0.299998</td>\n",
       "    </tr>\n",
       "    <tr>\n",
       "      <th>min</th>\n",
       "      <td>1.000000</td>\n",
       "      <td>NaN</td>\n",
       "      <td>29.000000</td>\n",
       "      <td>NaN</td>\n",
       "      <td>NaN</td>\n",
       "      <td>1.000000</td>\n",
       "      <td>0.000000</td>\n",
       "    </tr>\n",
       "    <tr>\n",
       "      <th>25%</th>\n",
       "      <td>125000.750000</td>\n",
       "      <td>NaN</td>\n",
       "      <td>29.000000</td>\n",
       "      <td>NaN</td>\n",
       "      <td>NaN</td>\n",
       "      <td>1.000000</td>\n",
       "      <td>0.000000</td>\n",
       "    </tr>\n",
       "    <tr>\n",
       "      <th>50%</th>\n",
       "      <td>250000.500000</td>\n",
       "      <td>NaN</td>\n",
       "      <td>49.000000</td>\n",
       "      <td>NaN</td>\n",
       "      <td>NaN</td>\n",
       "      <td>1.000000</td>\n",
       "      <td>0.000000</td>\n",
       "    </tr>\n",
       "    <tr>\n",
       "      <th>75%</th>\n",
       "      <td>375000.250000</td>\n",
       "      <td>NaN</td>\n",
       "      <td>49.000000</td>\n",
       "      <td>NaN</td>\n",
       "      <td>NaN</td>\n",
       "      <td>3.000000</td>\n",
       "      <td>0.000000</td>\n",
       "    </tr>\n",
       "    <tr>\n",
       "      <th>max</th>\n",
       "      <td>500000.000000</td>\n",
       "      <td>NaN</td>\n",
       "      <td>99.000000</td>\n",
       "      <td>NaN</td>\n",
       "      <td>NaN</td>\n",
       "      <td>8.000000</td>\n",
       "      <td>1.000000</td>\n",
       "    </tr>\n",
       "  </tbody>\n",
       "</table>\n",
       "</div>"
      ],
      "text/plain": [
       "              user_id subscription_signup_date  subscription_monthly_cost  \\\n",
       "count   500000.000000                   500000              500000.000000   \n",
       "unique            NaN                        1                        NaN   \n",
       "top               NaN            January, 2015                        NaN   \n",
       "freq              NaN                   500000                        NaN   \n",
       "mean    250000.500000                      NaN                  48.469620   \n",
       "std     144337.711634                      NaN                  19.570745   \n",
       "min          1.000000                      NaN                  29.000000   \n",
       "25%     125000.750000                      NaN                  29.000000   \n",
       "50%     250000.500000                      NaN                  49.000000   \n",
       "75%     375000.250000                      NaN                  49.000000   \n",
       "max     500000.000000                      NaN                  99.000000   \n",
       "\n",
       "       country  source  billing_cycles      is_active  \n",
       "count   500000  500000   500000.000000  500000.000000  \n",
       "unique       8       3             NaN            NaN  \n",
       "top         US     ads             NaN            NaN  \n",
       "freq     91731  414469             NaN            NaN  \n",
       "mean       NaN     NaN        2.384970       0.099998  \n",
       "std        NaN     NaN        2.254952       0.299998  \n",
       "min        NaN     NaN        1.000000       0.000000  \n",
       "25%        NaN     NaN        1.000000       0.000000  \n",
       "50%        NaN     NaN        1.000000       0.000000  \n",
       "75%        NaN     NaN        3.000000       0.000000  \n",
       "max        NaN     NaN        8.000000       1.000000  "
      ]
     },
     "execution_count": 49,
     "metadata": {},
     "output_type": "execute_result"
    }
   ],
   "source": [
    "data.describe(include = 'all')"
   ]
  },
  {
   "cell_type": "code",
   "execution_count": 50,
   "metadata": {},
   "outputs": [],
   "source": [
    "# calculate monthly retention rate \n",
    "retention_rate =data.groupby(['subscription_monthly_cost', 'billing_cycles']).size().reset_index(name = 'count')"
   ]
  },
  {
   "cell_type": "code",
   "execution_count": 27,
   "metadata": {
    "scrolled": true
   },
   "outputs": [
    {
     "data": {
      "text/html": [
       "<div>\n",
       "<style scoped>\n",
       "    .dataframe tbody tr th:only-of-type {\n",
       "        vertical-align: middle;\n",
       "    }\n",
       "\n",
       "    .dataframe tbody tr th {\n",
       "        vertical-align: top;\n",
       "    }\n",
       "\n",
       "    .dataframe thead th {\n",
       "        text-align: right;\n",
       "    }\n",
       "</style>\n",
       "<table border=\"1\" class=\"dataframe\">\n",
       "  <thead>\n",
       "    <tr style=\"text-align: right;\">\n",
       "      <th></th>\n",
       "      <th>subscription_monthly_cost</th>\n",
       "      <th>billing_cycles</th>\n",
       "      <th>count</th>\n",
       "    </tr>\n",
       "  </thead>\n",
       "  <tbody>\n",
       "    <tr>\n",
       "      <th>0</th>\n",
       "      <td>29</td>\n",
       "      <td>1</td>\n",
       "      <td>57441</td>\n",
       "    </tr>\n",
       "    <tr>\n",
       "      <th>1</th>\n",
       "      <td>29</td>\n",
       "      <td>2</td>\n",
       "      <td>21818</td>\n",
       "    </tr>\n",
       "    <tr>\n",
       "      <th>2</th>\n",
       "      <td>29</td>\n",
       "      <td>3</td>\n",
       "      <td>12037</td>\n",
       "    </tr>\n",
       "    <tr>\n",
       "      <th>3</th>\n",
       "      <td>29</td>\n",
       "      <td>4</td>\n",
       "      <td>7787</td>\n",
       "    </tr>\n",
       "    <tr>\n",
       "      <th>4</th>\n",
       "      <td>29</td>\n",
       "      <td>5</td>\n",
       "      <td>5505</td>\n",
       "    </tr>\n",
       "    <tr>\n",
       "      <th>5</th>\n",
       "      <td>29</td>\n",
       "      <td>6</td>\n",
       "      <td>4136</td>\n",
       "    </tr>\n",
       "    <tr>\n",
       "      <th>6</th>\n",
       "      <td>29</td>\n",
       "      <td>7</td>\n",
       "      <td>3111</td>\n",
       "    </tr>\n",
       "    <tr>\n",
       "      <th>7</th>\n",
       "      <td>29</td>\n",
       "      <td>8</td>\n",
       "      <td>34527</td>\n",
       "    </tr>\n",
       "    <tr>\n",
       "      <th>8</th>\n",
       "      <td>49</td>\n",
       "      <td>1</td>\n",
       "      <td>185145</td>\n",
       "    </tr>\n",
       "    <tr>\n",
       "      <th>9</th>\n",
       "      <td>49</td>\n",
       "      <td>2</td>\n",
       "      <td>53296</td>\n",
       "    </tr>\n",
       "    <tr>\n",
       "      <th>10</th>\n",
       "      <td>49</td>\n",
       "      <td>3</td>\n",
       "      <td>21690</td>\n",
       "    </tr>\n",
       "    <tr>\n",
       "      <th>11</th>\n",
       "      <td>49</td>\n",
       "      <td>4</td>\n",
       "      <td>11288</td>\n",
       "    </tr>\n",
       "    <tr>\n",
       "      <th>12</th>\n",
       "      <td>49</td>\n",
       "      <td>5</td>\n",
       "      <td>6727</td>\n",
       "    </tr>\n",
       "    <tr>\n",
       "      <th>13</th>\n",
       "      <td>49</td>\n",
       "      <td>6</td>\n",
       "      <td>4405</td>\n",
       "    </tr>\n",
       "    <tr>\n",
       "      <th>14</th>\n",
       "      <td>49</td>\n",
       "      <td>7</td>\n",
       "      <td>3173</td>\n",
       "    </tr>\n",
       "    <tr>\n",
       "      <th>15</th>\n",
       "      <td>49</td>\n",
       "      <td>8</td>\n",
       "      <td>14673</td>\n",
       "    </tr>\n",
       "    <tr>\n",
       "      <th>16</th>\n",
       "      <td>99</td>\n",
       "      <td>1</td>\n",
       "      <td>44788</td>\n",
       "    </tr>\n",
       "    <tr>\n",
       "      <th>17</th>\n",
       "      <td>99</td>\n",
       "      <td>2</td>\n",
       "      <td>4724</td>\n",
       "    </tr>\n",
       "    <tr>\n",
       "      <th>18</th>\n",
       "      <td>99</td>\n",
       "      <td>3</td>\n",
       "      <td>1471</td>\n",
       "    </tr>\n",
       "    <tr>\n",
       "      <th>19</th>\n",
       "      <td>99</td>\n",
       "      <td>4</td>\n",
       "      <td>678</td>\n",
       "    </tr>\n",
       "    <tr>\n",
       "      <th>20</th>\n",
       "      <td>99</td>\n",
       "      <td>5</td>\n",
       "      <td>399</td>\n",
       "    </tr>\n",
       "    <tr>\n",
       "      <th>21</th>\n",
       "      <td>99</td>\n",
       "      <td>6</td>\n",
       "      <td>226</td>\n",
       "    </tr>\n",
       "    <tr>\n",
       "      <th>22</th>\n",
       "      <td>99</td>\n",
       "      <td>7</td>\n",
       "      <td>156</td>\n",
       "    </tr>\n",
       "    <tr>\n",
       "      <th>23</th>\n",
       "      <td>99</td>\n",
       "      <td>8</td>\n",
       "      <td>799</td>\n",
       "    </tr>\n",
       "  </tbody>\n",
       "</table>\n",
       "</div>"
      ],
      "text/plain": [
       "    subscription_monthly_cost  billing_cycles   count\n",
       "0                          29               1   57441\n",
       "1                          29               2   21818\n",
       "2                          29               3   12037\n",
       "3                          29               4    7787\n",
       "4                          29               5    5505\n",
       "5                          29               6    4136\n",
       "6                          29               7    3111\n",
       "7                          29               8   34527\n",
       "8                          49               1  185145\n",
       "9                          49               2   53296\n",
       "10                         49               3   21690\n",
       "11                         49               4   11288\n",
       "12                         49               5    6727\n",
       "13                         49               6    4405\n",
       "14                         49               7    3173\n",
       "15                         49               8   14673\n",
       "16                         99               1   44788\n",
       "17                         99               2    4724\n",
       "18                         99               3    1471\n",
       "19                         99               4     678\n",
       "20                         99               5     399\n",
       "21                         99               6     226\n",
       "22                         99               7     156\n",
       "23                         99               8     799"
      ]
     },
     "execution_count": 27,
     "metadata": {},
     "output_type": "execute_result"
    }
   ],
   "source": [
    "retention_rate"
   ]
  },
  {
   "cell_type": "code",
   "execution_count": 51,
   "metadata": {},
   "outputs": [],
   "source": [
    "# calculate churn rate as cumulative sum by billing cycle divided by total users\n",
    "# retention rate =  1 - churn_rate\n",
    "retention_rate['retention_rate'] = retention_rate.groupby('subscription_monthly_cost')['count'].transform(\n",
    "                                               lambda x: 1-x.cumsum()/x.sum()\n",
    "                                               )"
   ]
  },
  {
   "cell_type": "code",
   "execution_count": 52,
   "metadata": {},
   "outputs": [],
   "source": [
    "# remove count and billing cycle == 8 because those users are still active\n",
    "retention_rate= retention_rate.drop('count', axis = 1).query('billing_cycles < 8')\n",
    "  \n"
   ]
  },
  {
   "cell_type": "code",
   "execution_count": 53,
   "metadata": {
    "scrolled": true
   },
   "outputs": [
    {
     "data": {
      "text/html": [
       "<div>\n",
       "<style scoped>\n",
       "    .dataframe tbody tr th:only-of-type {\n",
       "        vertical-align: middle;\n",
       "    }\n",
       "\n",
       "    .dataframe tbody tr th {\n",
       "        vertical-align: top;\n",
       "    }\n",
       "\n",
       "    .dataframe thead th {\n",
       "        text-align: right;\n",
       "    }\n",
       "</style>\n",
       "<table border=\"1\" class=\"dataframe\">\n",
       "  <thead>\n",
       "    <tr style=\"text-align: right;\">\n",
       "      <th></th>\n",
       "      <th>subscription_monthly_cost</th>\n",
       "      <th>billing_cycles</th>\n",
       "      <th>retention_rate</th>\n",
       "    </tr>\n",
       "  </thead>\n",
       "  <tbody>\n",
       "    <tr>\n",
       "      <th>0</th>\n",
       "      <td>29</td>\n",
       "      <td>1</td>\n",
       "      <td>0.607542</td>\n",
       "    </tr>\n",
       "    <tr>\n",
       "      <th>1</th>\n",
       "      <td>29</td>\n",
       "      <td>2</td>\n",
       "      <td>0.458473</td>\n",
       "    </tr>\n",
       "    <tr>\n",
       "      <th>2</th>\n",
       "      <td>29</td>\n",
       "      <td>3</td>\n",
       "      <td>0.376232</td>\n",
       "    </tr>\n",
       "    <tr>\n",
       "      <th>3</th>\n",
       "      <td>29</td>\n",
       "      <td>4</td>\n",
       "      <td>0.323028</td>\n",
       "    </tr>\n",
       "    <tr>\n",
       "      <th>4</th>\n",
       "      <td>29</td>\n",
       "      <td>5</td>\n",
       "      <td>0.285416</td>\n",
       "    </tr>\n",
       "    <tr>\n",
       "      <th>5</th>\n",
       "      <td>29</td>\n",
       "      <td>6</td>\n",
       "      <td>0.257157</td>\n",
       "    </tr>\n",
       "    <tr>\n",
       "      <th>6</th>\n",
       "      <td>29</td>\n",
       "      <td>7</td>\n",
       "      <td>0.235901</td>\n",
       "    </tr>\n",
       "    <tr>\n",
       "      <th>8</th>\n",
       "      <td>49</td>\n",
       "      <td>1</td>\n",
       "      <td>0.383666</td>\n",
       "    </tr>\n",
       "    <tr>\n",
       "      <th>9</th>\n",
       "      <td>49</td>\n",
       "      <td>2</td>\n",
       "      <td>0.206247</td>\n",
       "    </tr>\n",
       "    <tr>\n",
       "      <th>10</th>\n",
       "      <td>49</td>\n",
       "      <td>3</td>\n",
       "      <td>0.134043</td>\n",
       "    </tr>\n",
       "    <tr>\n",
       "      <th>11</th>\n",
       "      <td>49</td>\n",
       "      <td>4</td>\n",
       "      <td>0.096466</td>\n",
       "    </tr>\n",
       "    <tr>\n",
       "      <th>12</th>\n",
       "      <td>49</td>\n",
       "      <td>5</td>\n",
       "      <td>0.074072</td>\n",
       "    </tr>\n",
       "    <tr>\n",
       "      <th>13</th>\n",
       "      <td>49</td>\n",
       "      <td>6</td>\n",
       "      <td>0.059408</td>\n",
       "    </tr>\n",
       "    <tr>\n",
       "      <th>14</th>\n",
       "      <td>49</td>\n",
       "      <td>7</td>\n",
       "      <td>0.048845</td>\n",
       "    </tr>\n",
       "    <tr>\n",
       "      <th>16</th>\n",
       "      <td>99</td>\n",
       "      <td>1</td>\n",
       "      <td>0.158769</td>\n",
       "    </tr>\n",
       "    <tr>\n",
       "      <th>17</th>\n",
       "      <td>99</td>\n",
       "      <td>2</td>\n",
       "      <td>0.070040</td>\n",
       "    </tr>\n",
       "    <tr>\n",
       "      <th>18</th>\n",
       "      <td>99</td>\n",
       "      <td>3</td>\n",
       "      <td>0.042411</td>\n",
       "    </tr>\n",
       "    <tr>\n",
       "      <th>19</th>\n",
       "      <td>99</td>\n",
       "      <td>4</td>\n",
       "      <td>0.029676</td>\n",
       "    </tr>\n",
       "    <tr>\n",
       "      <th>20</th>\n",
       "      <td>99</td>\n",
       "      <td>5</td>\n",
       "      <td>0.022182</td>\n",
       "    </tr>\n",
       "    <tr>\n",
       "      <th>21</th>\n",
       "      <td>99</td>\n",
       "      <td>6</td>\n",
       "      <td>0.017937</td>\n",
       "    </tr>\n",
       "    <tr>\n",
       "      <th>22</th>\n",
       "      <td>99</td>\n",
       "      <td>7</td>\n",
       "      <td>0.015007</td>\n",
       "    </tr>\n",
       "  </tbody>\n",
       "</table>\n",
       "</div>"
      ],
      "text/plain": [
       "    subscription_monthly_cost  billing_cycles  retention_rate\n",
       "0                          29               1        0.607542\n",
       "1                          29               2        0.458473\n",
       "2                          29               3        0.376232\n",
       "3                          29               4        0.323028\n",
       "4                          29               5        0.285416\n",
       "5                          29               6        0.257157\n",
       "6                          29               7        0.235901\n",
       "8                          49               1        0.383666\n",
       "9                          49               2        0.206247\n",
       "10                         49               3        0.134043\n",
       "11                         49               4        0.096466\n",
       "12                         49               5        0.074072\n",
       "13                         49               6        0.059408\n",
       "14                         49               7        0.048845\n",
       "16                         99               1        0.158769\n",
       "17                         99               2        0.070040\n",
       "18                         99               3        0.042411\n",
       "19                         99               4        0.029676\n",
       "20                         99               5        0.022182\n",
       "21                         99               6        0.017937\n",
       "22                         99               7        0.015007"
      ]
     },
     "execution_count": 53,
     "metadata": {},
     "output_type": "execute_result"
    }
   ],
   "source": [
    "retention_rate"
   ]
  },
  {
   "cell_type": "code",
   "execution_count": 54,
   "metadata": {},
   "outputs": [
    {
     "data": {
      "image/png": "[encoded data removed]",
      "text/plain": [
       "<Figure size 432x288 with 1 Axes>"
      ]
     },
     "metadata": {
      "needs_background": "light"
     },
     "output_type": "display_data"
    }
   ],
   "source": [
    "# The relationship is non-linear for all price options.  \n",
    "sns.lineplot(x=\"billing_cycles\", y=\"retention_rate\", \n",
    "             hue=\"subscription_monthly_cost\", data=retention_rate, legend=\"full\"\n",
    "             )\n",
    "plt.show()"
   ]
  },
  {
   "cell_type": "code",
   "execution_count": 55,
   "metadata": {},
   "outputs": [
    {
     "data": {
      "image/png": "[encoded data removed]",
      "text/plain": [
       "<Figure size 432x288 with 1 Axes>"
      ]
     },
     "metadata": {
      "needs_background": "light"
     },
     "output_type": "display_data"
    }
   ],
   "source": [
    "# the speed of churn decreases as billing cycles increases  \n",
    "# log transformation\n",
    "retention_rate[\"billing_log\"] = np.log(retention_rate[\"billing_cycles\"])\n",
    "\n",
    "retention_rate[\"retention_rate_log\"] = np.log(retention_rate[\"retention_rate\"])\n",
    "\n",
    "#plot \n",
    "sns.lineplot(x=\"billing_log\", y=\"retention_rate_log\", \n",
    "             hue=\"subscription_monthly_cost\", data=retention_rate, legend=\"full\"\n",
    "             )\n",
    "plt.show()"
   ]
  },
  {
   "cell_type": "code",
   "execution_count": 56,
   "metadata": {},
   "outputs": [],
   "source": [
    "# model retention rate with linear regression  \n",
    "# model for the price option of $29 \n",
    "y29 = retention_rate.query('subscription_monthly_cost==29')['retention_rate_log']\n",
    "X29 = retention_rate.query('subscription_monthly_cost==29')['billing_log']\n",
    "X29 = sm.add_constant(X29)\n",
    "  "
   ]
  },
  {
   "cell_type": "code",
   "execution_count": 57,
   "metadata": {},
   "outputs": [
    {
     "name": "stdout",
     "output_type": "stream",
     "text": [
      "R Squared for 29$ is: 0.99\n"
     ]
    }
   ],
   "source": [
    "model29 = sm.OLS(y29, X29)\n",
    "results29 = model29.fit()\n",
    "print(\"R Squared for 29$ is:\", round(results29.rsquared,2))\n"
   ]
  },
  {
   "cell_type": "code",
   "execution_count": 59,
   "metadata": {},
   "outputs": [
    {
     "name": "stdout",
     "output_type": "stream",
     "text": [
      "R Squared for 49$ is: 1.0\n"
     ]
    }
   ],
   "source": [
    "#build linear model for price 49\n",
    "y49 = retention_rate.query('subscription_monthly_cost==49')['retention_rate_log']\n",
    "X49 = retention_rate.query('subscription_monthly_cost==49')['billing_log']\n",
    "X49 = sm.add_constant(X49)\n",
    "  \n",
    "model49 = sm.OLS(y49, X49)\n",
    "results49 = model49.fit()\n",
    "print(\"R Squared for 49$ is:\", round(results49.rsquared,2))\n"
   ]
  },
  {
   "cell_type": "code",
   "execution_count": 60,
   "metadata": {},
   "outputs": [
    {
     "name": "stdout",
     "output_type": "stream",
     "text": [
      "R Squared for 99$ is: 1.0\n"
     ]
    }
   ],
   "source": [
    "#build linear model for price 99\n",
    "y99 = retention_rate.query('subscription_monthly_cost==99')['retention_rate_log']\n",
    "X99 = retention_rate.query('subscription_monthly_cost==99')['billing_log']\n",
    "X99 = sm.add_constant(X99)\n",
    "  \n",
    "model99 = sm.OLS(y99, X99)\n",
    "results99 = model99.fit()\n",
    "print(\"R Squared for 99$ is:\", round(results99.rsquared,2))"
   ]
  },
  {
   "cell_type": "code",
   "execution_count": 61,
   "metadata": {},
   "outputs": [
    {
     "name": "stdout",
     "output_type": "stream",
     "text": [
      "[-1.48549968 -1.54324007 -1.5948906  -1.64161419 -1.68426949]\n"
     ]
    }
   ],
   "source": [
    "# predict the retention rate for billing cycle > 8\n",
    "Xpred = np.log(range(8,13))\n",
    "Xpred = sm.add_constant(Xpred)\n",
    "print(results29.predict(Xpred))"
   ]
  },
  {
   "cell_type": "code",
   "execution_count": 62,
   "metadata": {},
   "outputs": [
    {
     "name": "stdout",
     "output_type": "stream",
     "text": [
      "[0.22638919 0.21368762 0.20293073 0.19366717 0.18557995]\n"
     ]
    }
   ],
   "source": [
    "print(np.exp(results29.predict(Xpred)))"
   ]
  },
  {
   "cell_type": "code",
   "execution_count": 66,
   "metadata": {},
   "outputs": [
    {
     "name": "stdout",
     "output_type": "stream",
     "text": [
      "For the 29$ price point, after 1 year, the retention rate will be 0.186\n",
      "For the 49$ price point, after 1 year, the retention rate will be 0.029\n",
      "For the 99$ price point, after 1 year, the retention rate will be 0.008\n"
     ]
    }
   ],
   "source": [
    "print(\"For the 29$ price point, after 1 year, the retention rate will be\", \n",
    "      round(np.exp(results29.predict(Xpred))[4], 3))\n",
    "print(\"For the 49$ price point, after 1 year, the retention rate will be\", \n",
    "      round(np.exp(results49.predict(Xpred))[4], 3))\n",
    "print(\"For the 99$ price point, after 1 year, the retention rate will be\", \n",
    "      round(np.exp(results99.predict(Xpred))[4], 3))"
   ]
  },
  {
   "cell_type": "code",
   "execution_count": 67,
   "metadata": {},
   "outputs": [
    {
     "name": "stdout",
     "output_type": "stream",
     "text": [
      "Avg LTV of customers paying 29$ a month is: 132 dollars\n"
     ]
    }
   ],
   "source": [
    "# estimate the customer life time value\n",
    "Xpred = np.log(range(1,13))\n",
    "Xpred = sm.add_constant(Xpred)\n",
    "\n",
    "#predict the retention rate for each billing cycle\n",
    "retention_rate_tmp = np.exp(results29.predict(Xpred))\n",
    "\n",
    "#calculate the expected value by multiplying each probability * corresponding money at each billing cycle.\n",
    "LTV_29 = 29 + sum(retention_rate_tmp * 29)\n",
    "print(\"Avg LTV of customers paying 29$ a month is:\", round(LTV_29), \"dollars\")\n"
   ]
  },
  {
   "cell_type": "code",
   "execution_count": 68,
   "metadata": {},
   "outputs": [
    {
     "name": "stdout",
     "output_type": "stream",
     "text": [
      "Avg LTV of customers paying 49$ a month is: 107 dollars\n"
     ]
    }
   ],
   "source": [
    "retention_rate_tmp = np.exp(results49.predict(Xpred))\n",
    "LTV_49 = 49 + sum(retention_rate_tmp * 49)\n",
    "print(\"Avg LTV of customers paying 49$ a month is:\", round(LTV_49), \"dollars\")"
   ]
  },
  {
   "cell_type": "code",
   "execution_count": 69,
   "metadata": {},
   "outputs": [
    {
     "name": "stdout",
     "output_type": "stream",
     "text": [
      "Avg LTV of customers paying 99$ a month is: 139 dollars\n"
     ]
    }
   ],
   "source": [
    "\n",
    "retention_rate_tmp = np.exp(results99.predict(Xpred))\n",
    "LTV_99 = 99 + sum(retention_rate_tmp * 99)\n",
    "print(\"Avg LTV of customers paying 99$ a month is:\", round(LTV_99), \"dollars\")\n"
   ]
  },
  {
   "cell_type": "markdown",
   "metadata": {},
   "source": [
    "Based on the prediction, the highest LTV is for users paying 99 dollars. However, considering that 29 has a much higher 1 year retention rate, if we had taken a larger time window to define LTV, 29 would have likely been the best one."
   ]
  },
  {
   "cell_type": "code",
   "execution_count": 70,
   "metadata": {},
   "outputs": [
    {
     "data": {
      "image/png": "[encoded data removed]",
      "text/plain": [
       "<Figure size 432x288 with 1 Axes>"
      ]
     },
     "metadata": {
      "needs_background": "light"
     },
     "output_type": "display_data"
    }
   ],
   "source": [
    "# look at the users who are still active after 8 month\n",
    "#group by country and price and check retention rate as defined above\n",
    "country_retention = data.groupby(['country', 'subscription_monthly_cost']).apply(\n",
    "                    lambda x: pandas.Series({\n",
    "                             # active users\n",
    "                            'retention_rate': x['is_active'].mean(),\n",
    "                             # total count by price and country\n",
    "                            'count': x['is_active'].count(),\n",
    "                            # avg revenue by price and country\n",
    "                            'revenue' : (x['subscription_monthly_cost'] * x['billing_cycles']).mean()\n",
    "  })\n",
    ").reset_index()\n",
    "      \n",
    "\n",
    "sns.barplot(x=\"country\", hue=\"subscription_monthly_cost\", y=\"retention_rate\", data=country_retention)\n",
    "plt.show()"
   ]
  },
  {
   "cell_type": "code",
   "execution_count": 71,
   "metadata": {},
   "outputs": [
    {
     "data": {
      "image/png": "[encoded data removed]",
      "text/plain": [
       "<Figure size 432x288 with 1 Axes>"
      ]
     },
     "metadata": {
      "needs_background": "light"
     },
     "output_type": "display_data"
    }
   ],
   "source": [
    "#plot user count by country and price\n",
    "sns.barplot(x=\"country\", hue=\"subscription_monthly_cost\", y=\"count\", data=country_retention)\n",
    "plt.show()"
   ]
  },
  {
   "cell_type": "code",
   "execution_count": 72,
   "metadata": {},
   "outputs": [
    {
     "data": {
      "image/png": "[encoded data removed]",
      "text/plain": [
       "<Figure size 432x288 with 1 Axes>"
      ]
     },
     "metadata": {
      "needs_background": "light"
     },
     "output_type": "display_data"
    }
   ],
   "source": [
    "#find out for each country avg user revenue within the first 8 months\n",
    "sns.barplot(x=\"country\", hue=\"subscription_monthly_cost\", y=\"revenue\", data=country_retention)\n",
    "plt.show()"
   ]
  },
  {
   "cell_type": "markdown",
   "metadata": {},
   "source": [
    "China and India have huge retention rate for the cheapest price point. They are also much more likely to choose the 29$ option compared to the other countries\n",
    "\n",
    "\n",
    "India and China best price point is the cheapest one. For all other countries, the best price point is the most expensive one. However, unfortunately, all countries have the highest proportion of subscribers for the middle price. Therefore, if the company could shift users towards the optimal price point, this would increase user LTV, and that would have several positive effects, beside the obvious revenue gain. For instance, higher LTV means that we could bid higher for ads, and therefore grow much faster\n",
    "\n"
   ]
  },
  {
   "cell_type": "code",
   "execution_count": 73,
   "metadata": {},
   "outputs": [
    {
     "data": {
      "image/png": "[encoded data removed]",
      "text/plain": [
       "<Figure size 432x288 with 1 Axes>"
      ]
     },
     "metadata": {
      "needs_background": "light"
     },
     "output_type": "display_data"
    }
   ],
   "source": [
    "#group by source and price and check retention rate as defined above\n",
    "source_retention = data.groupby(['source', 'subscription_monthly_cost']).apply(\n",
    "                    lambda x: pandas.Series({\n",
    "                             # active users\n",
    "                            'retention_rate': x['is_active'].mean(),\n",
    "                             # total count by price and source\n",
    "                            'count': x['is_active'].count(),\n",
    "                            # avg revenue by price and source\n",
    "                            'revenue' : (x['subscription_monthly_cost'] * x['billing_cycles']).mean()\n",
    "  })\n",
    ").reset_index()\n",
    "      \n",
    "#Let's plot retention rate by source and price\n",
    "sns.barplot(x=\"source\", hue=\"subscription_monthly_cost\", y=\"retention_rate\", data=source_retention)\n",
    "plt.show()"
   ]
  },
  {
   "cell_type": "code",
   "execution_count": 74,
   "metadata": {},
   "outputs": [
    {
     "data": {
      "image/png": "[encoded data removed]",
      "text/plain": [
       "<Figure size 432x288 with 1 Axes>"
      ]
     },
     "metadata": {
      "needs_background": "light"
     },
     "output_type": "display_data"
    }
   ],
   "source": [
    "#Let's plot user count by source and price\n",
    "sns.barplot(x=\"source\", hue=\"subscription_monthly_cost\", y=\"count\", data=source_retention)\n",
    "plt.show()"
   ]
  },
  {
   "cell_type": "code",
   "execution_count": 75,
   "metadata": {},
   "outputs": [
    {
     "data": {
      "image/png": "[encoded data removed]",
      "text/plain": [
       "<Figure size 432x288 with 1 Axes>"
      ]
     },
     "metadata": {
      "needs_background": "light"
     },
     "output_type": "display_data"
    }
   ],
   "source": [
    "\n",
    "#Let's find out for each source avg user revenue within the first 8 months\n",
    "sns.barplot(x=\"source\", hue=\"subscription_monthly_cost\", y=\"revenue\", data=source_retention)\n",
    "plt.show()"
   ]
  },
  {
   "cell_type": "markdown",
   "metadata": {},
   "source": [
    "Findings:\n",
    "\n",
    "The high majority of users is coming from ads. However, these users have the lowest retention and, consequently, the lowest LTV. Also, those ads are mainly attracting 49$ customers. That’s highly inefficient. Ads campaigns should be optimized to attract customers with higher likelihood of buying the optimal price point\n",
    "\n",
    "\n",
    "In terms of retention, friend referral is doing really well, but has very low absolute numbers. Increasing this is a big opportunity. And btw the discount that is usually given to referred users can also be used as a leverage for the price discussion from above\n",
    "\n",
    "\n",
    "SEO is also doing better than ads in terms of retention, but there are way less users. This is also a big opportunity, especially because SEO is the only one that doesn’t cost anything.\n",
    "\n",
    "\n",
    "Overall these findings can be useful especially for marketing. We found several segments that are doing well, but are under represented as a proportion of total users. And these are by far the best/most actionable insights to give the marketing team."
   ]
  },
  {
   "cell_type": "code",
   "execution_count": null,
   "metadata": {},
   "outputs": [],
   "source": []
  }
 ],
 "metadata": {
  "kernelspec": {
   "display_name": "Python 3",
   "language": "python",
   "name": "python3"
  },
  "language_info": {
   "codemirror_mode": {
    "name": "ipython",
    "version": 3
   },
   "file_extension": ".py",
   "mimetype": "text/x-python",
   "name": "python",
   "nbconvert_exporter": "python",
   "pygments_lexer": "ipython3",
   "version": "3.8.3"
  }
 },
 "nbformat": 4,
 "nbformat_minor": 4
}
